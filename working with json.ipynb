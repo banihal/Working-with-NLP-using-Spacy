{
 "cells": [
  {
   "cell_type": "code",
   "execution_count": 2,
   "metadata": {},
   "outputs": [],
   "source": [
    "json_file_path = './train_.json'\n",
    "import json"
   ]
  },
  {
   "cell_type": "code",
   "execution_count": 3,
   "metadata": {},
   "outputs": [],
   "source": [
    "with open(json_file_path, 'r') as f:\n",
    "    array = json.load(f)"
   ]
  },
  {
   "cell_type": "code",
   "execution_count": null,
   "metadata": {},
   "outputs": [],
   "source": [
    "for element in array:\n",
    "    annot = element['annotation']\n",
    "    for label in annot:\n",
    "        for key in label:\n",
    "            for lis in label[key]:\n",
    "                if isinstance(lis,dict):\n",
    "                    for k1 in lis:\n",
    "                        if k1 == 'start' or k1 == 'end':\n",
    "                            print(lis[k1], end = \"\\n\")\n",
    "  "
   ]
  },
  {
   "cell_type": "code",
   "execution_count": 34,
   "metadata": {},
   "outputs": [],
   "source": [
    "from collections import defaultdict\n",
    "cont_list = []\n",
    "for element in array:\n",
    "    l = ()\n",
    "    cont = element['content']\n",
    "    annot = element['annotation']\n",
    "    d = defaultdict(list)\n",
    "    \n",
    "    for label in annot:\n",
    "        for key in label:\n",
    "            for lis in label[key]:\n",
    "                \n",
    "                if isinstance(lis, str):\n",
    "                    #print(lis)\n",
    "                    lab = lis\n",
    "                if isinstance(lis, dict):\n",
    "                    t = ()\n",
    "                    #print(lis['start'], lis['end'])\n",
    "                    t = t + (lis['start'],)\n",
    "                    t = t + (lis['end'],)\n",
    "                    t = t + (lab,)\n",
    "                    d['entities'].append(t)\n",
    "                    #print(t)\n",
    "    #for key in d:\n",
    "        #print(d[key])\n",
    "    l = l + (cont,) + (d,)\n",
    "    cont_list.append(l)\n",
    "    #print(l)\n",
    "    #print(\"*******************\\n%%%%%%%%%%%%%%%%%%%\")\n",
    "#print(cont_list) \n",
    "f = open(\"trainSpacy.txt\",\"w\")\n",
    "print(cont_list, file=f)"
   ]
  },
  {
   "cell_type": "code",
   "execution_count": null,
   "metadata": {},
   "outputs": [],
   "source": []
  }
 ],
 "metadata": {
  "kernelspec": {
   "display_name": "Python 3",
   "language": "python",
   "name": "python3"
  },
  "language_info": {
   "codemirror_mode": {
    "name": "ipython",
    "version": 3
   },
   "file_extension": ".py",
   "mimetype": "text/x-python",
   "name": "python",
   "nbconvert_exporter": "python",
   "pygments_lexer": "ipython3",
   "version": "3.6.7"
  }
 },
 "nbformat": 4,
 "nbformat_minor": 2
}
