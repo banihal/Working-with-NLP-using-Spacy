{
 "cells": [
  {
   "cell_type": "code",
   "execution_count": 2,
   "metadata": {},
   "outputs": [
    {
     "name": "stdout",
     "output_type": "stream",
     "text": [
      "\"Mr.\" PROPN NNP\n",
      "\"Raj\" PROPN NNP\n",
      "\"is\" VERB VBZ\n",
      "\"here\" ADV RB\n"
     ]
    }
   ],
   "source": [
    "import spacy\n",
    "nlp = spacy.load('en')\n",
    "doc = nlp('Mr. Raj is here')\n",
    "for token in doc:\n",
    "    print('\"' + token.text + '\"', token.pos_, token.tag_)"
   ]
  },
  {
   "cell_type": "code",
   "execution_count": 3,
   "metadata": {},
   "outputs": [
    {
     "name": "stdout",
     "output_type": "stream",
     "text": [
      "\"Mr.\" 0\n",
      "\"Raj\" 4\n",
      "\"is\" 8\n",
      "\"here\" 11\n"
     ]
    }
   ],
   "source": [
    "for token in doc:\n",
    "    print('\"' + token.text + '\"', token.idx)"
   ]
  },
  {
   "cell_type": "code",
   "execution_count": 4,
   "metadata": {},
   "outputs": [
    {
     "name": "stdout",
     "output_type": "stream",
     "text": [
      "salman\t0\tsalman\tFalse\tFalse\txxxx\tNOUN\tNN\n",
      "is\t7\tbe\tFalse\tFalse\txx\tVERB\tVBZ\n",
      "talking\t10\ttalk\tFalse\tFalse\txxxx\tVERB\tVBG\n",
      "with\t18\twith\tFalse\tFalse\txxxx\tADP\tIN\n",
      "   \t23\t   \tFalse\tTrue\t   \tSPACE\t_SP\n",
      "teacher\t26\tteacher\tFalse\tFalse\txxxx\tNOUN\tNN\n"
     ]
    }
   ],
   "source": [
    "ndoc = nlp('salman is talking with    teacher')\n",
    "for token in ndoc:\n",
    "    print(\"{0}\\t{1}\\t{2}\\t{3}\\t{4}\\t{5}\\t{6}\\t{7}\".format(\n",
    "    token.text,\n",
    "    token.idx,\n",
    "    token.lemma_,\n",
    "    token.is_punct,\n",
    "    token.is_space,\n",
    "    token.shape_,\n",
    "    token.pos_,\n",
    "    token.tag_\n",
    "    ))"
   ]
  },
  {
   "cell_type": "code",
   "execution_count": 17,
   "metadata": {},
   "outputs": [
    {
     "name": "stdout",
     "output_type": "stream",
     "text": [
      "salman is talking.\n",
      "He is a teacher\n"
     ]
    }
   ],
   "source": [
    "doc = nlp('salman is talking.He is a teacher')\n",
    "for sent in doc.sents:\n",
    "    print(sent)"
   ]
  },
  {
   "cell_type": "code",
   "execution_count": 6,
   "metadata": {},
   "outputs": [
    {
     "name": "stdout",
     "output_type": "stream",
     "text": [
      "1286 DATE\n",
      "Adur PERSON\n",
      "Mamluk PERSON\n",
      "him.[9 ORG\n",
      "Mamluk PERSON\n",
      "Dongola.[15 GPE\n",
      "1290 DATE\n",
      "Adur PERSON\n",
      "Makuria GPE\n",
      "Any PERSON\n",
      "1289 DATE\n",
      "1289 DATE\n",
      "Shemamun GPE\n",
      "Any, Adur WORK_OF_ART\n",
      "Anaj PERSON\n",
      "Alodia GPE\n",
      "Bilad al-Sudan PERSON\n",
      "Mamluk PERSON\n",
      "1292 DATE\n",
      "Adur PERSON\n",
      "Makuria PERSON\n"
     ]
    }
   ],
   "source": [
    "doc = nlp('In 1286 Adur is mentioned again. He is recorded as having sent an ambassador to the Mamluk sultan, who not only presented him with gifts in the form of an elephant and a giraffe, but also professed obedience to him.[9] Furthermore, the ambassador complained about the hostility of the Mamluk puppet king in Dongola.[15] Early the following year the Mamluks sent an ambassador back.[16] In 1290 Adur is said to have waged a campaign against a Makuria king named Any, who had fled the country in 1289. However, it is far from clear who Any was:[17] in 1289 the kings in Dongola were named Shemamun and Budemma.[18] It is possible that he was merely a chieftain. Apart of the war against Any, Adur was also engaged in a campaign against an unnamed king who had invaded the land of Anaj, possibly referring to Alodia. He claimed that once his campaigns were successful the entire Bilad al-Sudan would be under the authority of the Mamluk sultan.[19] In 1292 Adur was accused by the king of Makuria of devastating his country')\n",
    "for ent in doc.ents:\n",
    "    print(ent.text,ent.label_)"
   ]
  },
  {
   "cell_type": "code",
   "execution_count": 7,
   "metadata": {},
   "outputs": [
    {
     "data": {
      "text/plain": [
       "'Titles of books, songs, etc.'"
      ]
     },
     "execution_count": 7,
     "metadata": {},
     "output_type": "execute_result"
    }
   ],
   "source": [
    "spacy.explain('WORK_OF_ART')"
   ]
  },
  {
   "cell_type": "code",
   "execution_count": 8,
   "metadata": {},
   "outputs": [
    {
     "data": {
      "text/html": [
       "<div class=\"entities\" style=\"line-height: 2.5\">\n",
       "<mark class=\"entity\" style=\"background: #bfe1d9; padding: 0.45em 0.6em; margin: 0 0.25em; line-height: 1; border-radius: 0.35em; box-decoration-break: clone; -webkit-box-decoration-break: clone\">\n",
       "    Last Year\n",
       "    <span style=\"font-size: 0.8em; font-weight: bold; line-height: 1; border-radius: 0.35em; text-transform: uppercase; vertical-align: middle; margin-left: 0.5rem\">DATE</span>\n",
       "</mark>\n",
       " at \n",
       "<mark class=\"entity\" style=\"background: #bfe1d9; padding: 0.45em 0.6em; margin: 0 0.25em; line-height: 1; border-radius: 0.35em; box-decoration-break: clone; -webkit-box-decoration-break: clone\">\n",
       "    2 pm\n",
       "    <span style=\"font-size: 0.8em; font-weight: bold; line-height: 1; border-radius: 0.35em; text-transform: uppercase; vertical-align: middle; margin-left: 0.5rem\">TIME</span>\n",
       "</mark>\n",
       " near the bank of \n",
       "<mark class=\"entity\" style=\"background: #bfeeb7; padding: 0.45em 0.6em; margin: 0 0.25em; line-height: 1; border-radius: 0.35em; box-decoration-break: clone; -webkit-box-decoration-break: clone\">\n",
       "    River Jehlum 2\n",
       "    <span style=\"font-size: 0.8em; font-weight: bold; line-height: 1; border-radius: 0.35em; text-transform: uppercase; vertical-align: middle; margin-left: 0.5rem\">PRODUCT</span>\n",
       "</mark>\n",
       " people were fishing illigaly</div>"
      ],
      "text/plain": [
       "<IPython.core.display.HTML object>"
      ]
     },
     "metadata": {},
     "output_type": "display_data"
    }
   ],
   "source": [
    "from spacy import displacy\n",
    "doc = nlp('Last Year at 2 pm near the bank of River Jehlum 2 people were fishing illigaly')\n",
    "displacy.render(doc, style = 'ent', jupyter = True)"
   ]
  },
  {
   "cell_type": "code",
   "execution_count": 9,
   "metadata": {},
   "outputs": [
    {
     "data": {
      "text/html": [
       "<svg xmlns=\"http://www.w3.org/2000/svg\" xmlns:xlink=\"http://www.w3.org/1999/xlink\" id=\"137-0\" class=\"displacy\" width=\"1050\" height=\"437.0\" style=\"max-width: none; height: 437.0px; color: #000000; background: #ffffff; font-family: Arial\">\n",
       "<text class=\"displacy-token\" fill=\"currentColor\" text-anchor=\"middle\" y=\"347.0\">\n",
       "    <tspan class=\"displacy-word\" fill=\"currentColor\" x=\"50\">book</tspan>\n",
       "    <tspan class=\"displacy-tag\" dy=\"2em\" fill=\"currentColor\" x=\"50\">VERB</tspan>\n",
       "</text>\n",
       "\n",
       "<text class=\"displacy-token\" fill=\"currentColor\" text-anchor=\"middle\" y=\"347.0\">\n",
       "    <tspan class=\"displacy-word\" fill=\"currentColor\" x=\"250\">me</tspan>\n",
       "    <tspan class=\"displacy-tag\" dy=\"2em\" fill=\"currentColor\" x=\"250\">PRON</tspan>\n",
       "</text>\n",
       "\n",
       "<text class=\"displacy-token\" fill=\"currentColor\" text-anchor=\"middle\" y=\"347.0\">\n",
       "    <tspan class=\"displacy-word\" fill=\"currentColor\" x=\"450\">the</tspan>\n",
       "    <tspan class=\"displacy-tag\" dy=\"2em\" fill=\"currentColor\" x=\"450\">DET</tspan>\n",
       "</text>\n",
       "\n",
       "<text class=\"displacy-token\" fill=\"currentColor\" text-anchor=\"middle\" y=\"347.0\">\n",
       "    <tspan class=\"displacy-word\" fill=\"currentColor\" x=\"650\">morning</tspan>\n",
       "    <tspan class=\"displacy-tag\" dy=\"2em\" fill=\"currentColor\" x=\"650\">NOUN</tspan>\n",
       "</text>\n",
       "\n",
       "<text class=\"displacy-token\" fill=\"currentColor\" text-anchor=\"middle\" y=\"347.0\">\n",
       "    <tspan class=\"displacy-word\" fill=\"currentColor\" x=\"850\">flight</tspan>\n",
       "    <tspan class=\"displacy-tag\" dy=\"2em\" fill=\"currentColor\" x=\"850\">NOUN</tspan>\n",
       "</text>\n",
       "\n",
       "<g class=\"displacy-arrow\">\n",
       "    <path class=\"displacy-arc\" id=\"arrow-137-0-0\" stroke-width=\"2px\" d=\"M70,302.0 C70,202.0 240.0,202.0 240.0,302.0\" fill=\"none\" stroke=\"currentColor\"/>\n",
       "    <text dy=\"1.25em\" style=\"font-size: 0.8em; letter-spacing: 1px\">\n",
       "        <textPath xlink:href=\"#arrow-137-0-0\" class=\"displacy-label\" startOffset=\"50%\" fill=\"currentColor\" text-anchor=\"middle\">dobj</textPath>\n",
       "    </text>\n",
       "    <path class=\"displacy-arrowhead\" d=\"M240.0,304.0 L248.0,292.0 232.0,292.0\" fill=\"currentColor\"/>\n",
       "</g>\n",
       "\n",
       "<g class=\"displacy-arrow\">\n",
       "    <path class=\"displacy-arc\" id=\"arrow-137-0-1\" stroke-width=\"2px\" d=\"M470,302.0 C470,102.0 845.0,102.0 845.0,302.0\" fill=\"none\" stroke=\"currentColor\"/>\n",
       "    <text dy=\"1.25em\" style=\"font-size: 0.8em; letter-spacing: 1px\">\n",
       "        <textPath xlink:href=\"#arrow-137-0-1\" class=\"displacy-label\" startOffset=\"50%\" fill=\"currentColor\" text-anchor=\"middle\">det</textPath>\n",
       "    </text>\n",
       "    <path class=\"displacy-arrowhead\" d=\"M470,304.0 L462,292.0 478,292.0\" fill=\"currentColor\"/>\n",
       "</g>\n",
       "\n",
       "<g class=\"displacy-arrow\">\n",
       "    <path class=\"displacy-arc\" id=\"arrow-137-0-2\" stroke-width=\"2px\" d=\"M670,302.0 C670,202.0 840.0,202.0 840.0,302.0\" fill=\"none\" stroke=\"currentColor\"/>\n",
       "    <text dy=\"1.25em\" style=\"font-size: 0.8em; letter-spacing: 1px\">\n",
       "        <textPath xlink:href=\"#arrow-137-0-2\" class=\"displacy-label\" startOffset=\"50%\" fill=\"currentColor\" text-anchor=\"middle\">compound</textPath>\n",
       "    </text>\n",
       "    <path class=\"displacy-arrowhead\" d=\"M670,304.0 L662,292.0 678,292.0\" fill=\"currentColor\"/>\n",
       "</g>\n",
       "\n",
       "<g class=\"displacy-arrow\">\n",
       "    <path class=\"displacy-arc\" id=\"arrow-137-0-3\" stroke-width=\"2px\" d=\"M70,302.0 C70,2.0 850.0,2.0 850.0,302.0\" fill=\"none\" stroke=\"currentColor\"/>\n",
       "    <text dy=\"1.25em\" style=\"font-size: 0.8em; letter-spacing: 1px\">\n",
       "        <textPath xlink:href=\"#arrow-137-0-3\" class=\"displacy-label\" startOffset=\"50%\" fill=\"currentColor\" text-anchor=\"middle\">dobj</textPath>\n",
       "    </text>\n",
       "    <path class=\"displacy-arrowhead\" d=\"M850.0,304.0 L858.0,292.0 842.0,292.0\" fill=\"currentColor\"/>\n",
       "</g>\n",
       "</svg>"
      ],
      "text/plain": [
       "<IPython.core.display.HTML object>"
      ]
     },
     "metadata": {},
     "output_type": "display_data"
    }
   ],
   "source": [
    "txt = \"book me the morning flight\"\n",
    "doc = nlp(txt)\n",
    "displacy.render(doc, style='dep', jupyter=True, options={'distance': 200})"
   ]
  },
  {
   "cell_type": "code",
   "execution_count": 10,
   "metadata": {},
   "outputs": [
    {
     "name": "stdout",
     "output_type": "stream",
     "text": [
      "    python      \n",
      "  ____|______    \n",
      " |          info\n",
      " |           |   \n",
      " -m        spacy\n",
      "\n"
     ]
    },
    {
     "data": {
      "text/plain": [
       "[None]"
      ]
     },
     "execution_count": 10,
     "metadata": {},
     "output_type": "execute_result"
    }
   ],
   "source": [
    "from nltk import Tree\n",
    "nlp = spacy.load('en')\n",
    "doc = nlp('python -m spacy info')\n",
    "def to_nltk_tree(node):\n",
    "    if node.n_lefts + node.n_rights > 0:\n",
    "        return Tree(node.orth_, [to_nltk_tree(child) for child in node.children])\n",
    "    else:\n",
    "        return node.orth_\n",
    "[to_nltk_tree(sent.root).pretty_print() for sent in doc.sents]"
   ]
  },
  {
   "cell_type": "code",
   "execution_count": 11,
   "metadata": {},
   "outputs": [
    {
     "name": "stdout",
     "output_type": "stream",
     "text": [
      "Human Human 1.0\n",
      "Human Monkey 0.4910175\n",
      "Human Fish 0.57326025\n",
      "Human Rat 0.26700434\n",
      "Monkey Human 0.4910175\n",
      "Monkey Monkey 1.0\n",
      "Monkey Fish 0.5762505\n",
      "Monkey Rat 0.3534242\n",
      "Fish Human 0.57326025\n",
      "Fish Monkey 0.5762505\n",
      "Fish Fish 1.0\n",
      "Fish Rat 0.4960725\n",
      "Rat Human 0.26700434\n",
      "Rat Monkey 0.3534242\n",
      "Rat Fish 0.4960725\n",
      "Rat Rat 1.0\n"
     ]
    }
   ],
   "source": [
    "tokens  = nlp(\"Human Monkey Fish Rat\")\n",
    "for token1 in tokens:\n",
    "    for token2 in tokens:\n",
    "        print(token1.text, token2.text, token1.similarity(token2))"
   ]
  },
  {
   "cell_type": "code",
   "execution_count": 12,
   "metadata": {},
   "outputs": [
    {
     "name": "stdout",
     "output_type": "stream",
     "text": [
      "Human True 23.777767 True\n",
      "Monkey True 24.31357 True\n",
      "Fish True 24.097288 True\n",
      "Rat True 25.210064 True\n"
     ]
    }
   ],
   "source": [
    "tokens  = nlp(\"Human Monkey Fish Rat\")\n",
    "for token1 in tokens:\n",
    "    print(token1.text, token1.has_vector, token1.vector_norm, token1.is_oov)"
   ]
  },
  {
   "cell_type": "code",
   "execution_count": null,
   "metadata": {},
   "outputs": [],
   "source": []
  },
  {
   "cell_type": "markdown",
   "metadata": {},
   "source": [
    "##### "
   ]
  },
  {
   "cell_type": "code",
   "execution_count": 13,
   "metadata": {},
   "outputs": [
    {
     "name": "stdout",
     "output_type": "stream",
     "text": [
      "[Pamela McCorduck, AI, AI, James Lighthill, AI, AI, McCorduck, Main, Jābir, Hayyān, Takwin, Mary Shelley's, Frankenstein, Karel Čapek's, Samuel Butler's, Darwin, Machines, AI, Main, Yan Shi, Al-Jazari, Pierre Jaquet-Droz, Wolfgang von Kempelen, Euclid, al-Khwārizmī, William of Ockham, Duns Scotus, Ramon Llull, Llull, Llull, Gottfried Leibniz, Gottfried Leibniz, Thomas Hobbes, René Descartes, Hobbes, Leibniz, Frege, Russell, Russell, David Hilbert, AI, Gottfried Leibniz, Charles Babbage, Bernoulli, Engine, Alan Turing, John von Neumann]\n"
     ]
    }
   ],
   "source": [
    "import spacy\n",
    "en = spacy.load('en')\n",
    "sents = en(open('input.txt').read())\n",
    "people = [ee for ee in sents.ents if ee.label_ == 'PERSON']\n",
    "print(people)"
   ]
  },
  {
   "cell_type": "code",
   "execution_count": 14,
   "metadata": {},
   "outputs": [
    {
     "data": {
      "text/plain": [
       "('dobj', 'dative', 'attr', 'oprd')"
      ]
     },
     "execution_count": 14,
     "metadata": {},
     "output_type": "execute_result"
    }
   ],
   "source": [
    "\"dobj\", \"dative\", \"attr\", \"oprd\""
   ]
  },
  {
   "cell_type": "code",
   "execution_count": 15,
   "metadata": {},
   "outputs": [
    {
     "data": {
      "text/plain": [
       "'marker'"
      ]
     },
     "execution_count": 15,
     "metadata": {},
     "output_type": "execute_result"
    }
   ],
   "source": [
    "spacy.explain('mark')"
   ]
  },
  {
   "cell_type": "code",
   "execution_count": 16,
   "metadata": {},
   "outputs": [
    {
     "name": "stdout",
     "output_type": "stream",
     "text": [
      "[]\n",
      "[]\n",
      "[they, are]\n",
      "[chess]\n"
     ]
    }
   ],
   "source": [
    "token = nlp(\"they are playing chess\")\n",
    "for tok in token:\n",
    "    if tok.pos_ == \"VERB\":\n",
    "        rights = list(tok.rights)\n",
    "        lefts  = list(tok.lefts)\n",
    "        print(lefts)\n",
    "        print(rights)"
   ]
  },
  {
   "cell_type": "code",
   "execution_count": null,
   "metadata": {},
   "outputs": [],
   "source": []
  },
  {
   "cell_type": "code",
   "execution_count": null,
   "metadata": {},
   "outputs": [],
   "source": []
  }
 ],
 "metadata": {
  "kernelspec": {
   "display_name": "Python 3",
   "language": "python",
   "name": "python3"
  },
  "language_info": {
   "codemirror_mode": {
    "name": "ipython",
    "version": 3
   },
   "file_extension": ".py",
   "mimetype": "text/x-python",
   "name": "python",
   "nbconvert_exporter": "python",
   "pygments_lexer": "ipython3",
   "version": "3.6.7"
  }
 },
 "nbformat": 4,
 "nbformat_minor": 2
}
