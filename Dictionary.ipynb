{
 "cells": [
  {
   "cell_type": "code",
   "execution_count": 12,
   "metadata": {},
   "outputs": [],
   "source": [
    "import json\n",
    "from difflib import get_close_matches"
   ]
  },
  {
   "cell_type": "code",
   "execution_count": 32,
   "metadata": {},
   "outputs": [
    {
     "name": "stdout",
     "output_type": "stream",
     "text": [
      "search for a word:  Rsult\n",
      "did you mean this instead sault? y/ny\n",
      "A rapid in some rivers; as, the Sault Ste. Marie. [U.S.] Bartlett.\n"
     ]
    }
   ],
   "source": [
    "data = json.load(open(\"dictionary.json\"))\n",
    "def get_word(word):\n",
    "    \n",
    "    if word in data:\n",
    "        return data[word]\n",
    "    elif word.title() in data:\n",
    "        return data[word.title()]\n",
    "    elif word.upper() in data:\n",
    "        return data[word.upper()]\n",
    "    elif len(get_close_matches(word, data.keys())) > 0:\n",
    "        action = input(\"did you mean this instead %s? y/n\" % get_close_matches(word, data.keys())[0])\n",
    "        if action == \"y\":\n",
    "            return data[get_close_matches(word, data.keys())[0]]\n",
    "        elif action == \"n\":\n",
    "            print(\"word does not exit !\")\n",
    "        else:\n",
    "            print(\"Please enter y or n\")\n",
    "    else:\n",
    "        print(\"Sorry we did not understand your entry ! Apolgies!\")\n",
    "        \n",
    "word_user = input(\"search for a word:  \")\n",
    "\n",
    "output = get_word(word_user)\n",
    "if type(output) == list:\n",
    "    for item in output:\n",
    "        print(item)\n",
    "else:\n",
    "    print(output)   "
   ]
  },
  {
   "cell_type": "code",
   "execution_count": null,
   "metadata": {},
   "outputs": [],
   "source": []
  }
 ],
 "metadata": {
  "kernelspec": {
   "display_name": "Python 3",
   "language": "python",
   "name": "python3"
  },
  "language_info": {
   "codemirror_mode": {
    "name": "ipython",
    "version": 3
   },
   "file_extension": ".py",
   "mimetype": "text/x-python",
   "name": "python",
   "nbconvert_exporter": "python",
   "pygments_lexer": "ipython3",
   "version": "3.6.7"
  }
 },
 "nbformat": 4,
 "nbformat_minor": 2
}
